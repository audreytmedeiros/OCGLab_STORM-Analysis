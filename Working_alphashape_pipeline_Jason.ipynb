{
 "cells": [
  {
   "cell_type": "code",
   "execution_count": 1,
   "id": "a6fc6f3f-d548-4615-93cc-36fede3ffa56",
   "metadata": {},
   "outputs": [],
   "source": [
    "# Import block\n",
    "\n",
    "import alpha_shape_Mrestani as ash  # From Mrestani repo\n",
    "import pandas as pd\n",
    "import numpy as np\n",
    "from matplotlib import pyplot as plt"
   ]
  },
  {
   "cell_type": "code",
   "execution_count": 2,
   "id": "8a9b147a-ee1b-4698-9920-ed4c69ce64b8",
   "metadata": {},
   "outputs": [],
   "source": [
    "# Utility functions\n",
    "\n",
    "def um_to_px(coords, pxum=6.25):\n",
    "    # pxum is pixels per micron\n",
    "    return coords*pxum - 0.5"
   ]
  },
  {
   "cell_type": "code",
   "execution_count": 3,
   "id": "f0d4f8cb-f67b-47ea-92ef-300ed44aaee7",
   "metadata": {},
   "outputs": [
    {
     "data": {
      "text/html": [
       "<div>\n",
       "<style scoped>\n",
       "    .dataframe tbody tr th:only-of-type {\n",
       "        vertical-align: middle;\n",
       "    }\n",
       "\n",
       "    .dataframe tbody tr th {\n",
       "        vertical-align: top;\n",
       "    }\n",
       "\n",
       "    .dataframe thead th {\n",
       "        text-align: right;\n",
       "    }\n",
       "</style>\n",
       "<table border=\"1\" class=\"dataframe\">\n",
       "  <thead>\n",
       "    <tr style=\"text-align: right;\">\n",
       "      <th></th>\n",
       "      <th>X Position [µm]</th>\n",
       "      <th>Y Position [µm]</th>\n",
       "      <th>Lateral Localization Accuracy</th>\n",
       "      <th>Clusters - ID</th>\n",
       "    </tr>\n",
       "  </thead>\n",
       "  <tbody>\n",
       "    <tr>\n",
       "      <th>123</th>\n",
       "      <td>18.412582</td>\n",
       "      <td>11.790802</td>\n",
       "      <td>0.046826</td>\n",
       "      <td>2</td>\n",
       "    </tr>\n",
       "    <tr>\n",
       "      <th>162</th>\n",
       "      <td>18.440820</td>\n",
       "      <td>11.762816</td>\n",
       "      <td>0.029610</td>\n",
       "      <td>2</td>\n",
       "    </tr>\n",
       "    <tr>\n",
       "      <th>26</th>\n",
       "      <td>18.460686</td>\n",
       "      <td>11.766873</td>\n",
       "      <td>0.041973</td>\n",
       "      <td>2</td>\n",
       "    </tr>\n",
       "    <tr>\n",
       "      <th>28</th>\n",
       "      <td>18.410106</td>\n",
       "      <td>11.803893</td>\n",
       "      <td>0.022242</td>\n",
       "      <td>2</td>\n",
       "    </tr>\n",
       "    <tr>\n",
       "      <th>278</th>\n",
       "      <td>18.443359</td>\n",
       "      <td>11.799879</td>\n",
       "      <td>0.027378</td>\n",
       "      <td>2</td>\n",
       "    </tr>\n",
       "    <tr>\n",
       "      <th>...</th>\n",
       "      <td>...</td>\n",
       "      <td>...</td>\n",
       "      <td>...</td>\n",
       "      <td>...</td>\n",
       "    </tr>\n",
       "    <tr>\n",
       "      <th>661</th>\n",
       "      <td>17.547169</td>\n",
       "      <td>11.901045</td>\n",
       "      <td>0.040318</td>\n",
       "      <td>284</td>\n",
       "    </tr>\n",
       "    <tr>\n",
       "      <th>292</th>\n",
       "      <td>17.607776</td>\n",
       "      <td>11.957288</td>\n",
       "      <td>0.024288</td>\n",
       "      <td>284</td>\n",
       "    </tr>\n",
       "    <tr>\n",
       "      <th>673</th>\n",
       "      <td>17.641285</td>\n",
       "      <td>11.922378</td>\n",
       "      <td>0.038294</td>\n",
       "      <td>284</td>\n",
       "    </tr>\n",
       "    <tr>\n",
       "      <th>282</th>\n",
       "      <td>17.564518</td>\n",
       "      <td>11.935361</td>\n",
       "      <td>0.033214</td>\n",
       "      <td>284</td>\n",
       "    </tr>\n",
       "    <tr>\n",
       "      <th>959</th>\n",
       "      <td>17.676506</td>\n",
       "      <td>11.942103</td>\n",
       "      <td>0.047865</td>\n",
       "      <td>284</td>\n",
       "    </tr>\n",
       "  </tbody>\n",
       "</table>\n",
       "<p>773 rows × 4 columns</p>\n",
       "</div>"
      ],
      "text/plain": [
       "     X Position [µm]  Y Position [µm]  Lateral Localization Accuracy  \\\n",
       "123        18.412582        11.790802                       0.046826   \n",
       "162        18.440820        11.762816                       0.029610   \n",
       "26         18.460686        11.766873                       0.041973   \n",
       "28         18.410106        11.803893                       0.022242   \n",
       "278        18.443359        11.799879                       0.027378   \n",
       "..               ...              ...                            ...   \n",
       "661        17.547169        11.901045                       0.040318   \n",
       "292        17.607776        11.957288                       0.024288   \n",
       "673        17.641285        11.922378                       0.038294   \n",
       "282        17.564518        11.935361                       0.033214   \n",
       "959        17.676506        11.942103                       0.047865   \n",
       "\n",
       "     Clusters - ID  \n",
       "123              2  \n",
       "162              2  \n",
       "26               2  \n",
       "28               2  \n",
       "278              2  \n",
       "..             ...  \n",
       "661            284  \n",
       "292            284  \n",
       "673            284  \n",
       "282            284  \n",
       "959            284  \n",
       "\n",
       "[773 rows x 4 columns]"
      ]
     },
     "execution_count": 3,
     "metadata": {},
     "output_type": "execute_result"
    }
   ],
   "source": [
    "# Load Nikon data file with points\n",
    "\n",
    "dbscan_file = '20220526_L1_NMJ1_A2R67_DBSCAN_v2.xlsx'\n",
    "\n",
    "#Read Excel file, extract columns of interest (**change out sheet name (B1_Ib_DBSCAN) for desired sheet**)\n",
    "data = pd.read_excel(dbscan_file, sheet_name= 'B1_Ib_DBSCAN', usecols= [1, 2, 5, 37])\n",
    "\n",
    "#Remove lateral localization accuracy points below 50nm (0.05 microns)\n",
    "data_loc_acc = data.loc[data[\"Lateral Localization Accuracy\"] <= 0.05]\n",
    "\n",
    "#Sort data by Cluster ID\n",
    "data_sorted = data_loc_acc.sort_values(by = ['Clusters - ID'], ascending = True )\n",
    "data_sorted"
   ]
  },
  {
   "cell_type": "code",
   "execution_count": 4,
   "id": "35f55d77-ab2a-4f49-adc7-eb7555160743",
   "metadata": {
    "tags": []
   },
   "outputs": [],
   "source": [
    "# Load max projection image from raw nd2 video wih Fiji/ImageJ to maintain alignment\n",
    "max_proj_file = 'MAX_20220526_CacHalo_JF646_L1_A2R67_000.nd2 - C=0.png'\n",
    "\n",
    "Im = plt.imread(max_proj_file)"
   ]
  },
  {
   "cell_type": "code",
   "execution_count": 5,
   "id": "88b863da-7870-4a11-bc2c-19a5051fcab6",
   "metadata": {
    "tags": []
   },
   "outputs": [],
   "source": [
    "# Plot max projection image and all non-noise poits on top\n",
    "\n",
    "# pop out to allow zoom, etc\n",
    "%matplotlib qt  \n",
    "\n",
    "pts_all = um_to_px( data[data['Clusters - ID']>=0].iloc[:,0:3].to_numpy() ) # pixels\n",
    "pts_all_ids = data[data['Clusters - ID']>=0].iloc[:,3].to_numpy()\n",
    "\n",
    "plt.figure(figsize=(12,12))\n",
    "plt.imshow(Im.mean(axis=2), cmap = \"gray\")  # Plot greyscale\n",
    "plt.scatter(pts_all[:,0],pts_all[:,1],5,pts_all_ids)\n",
    "plt.axis('image')\n",
    "plt.show()"
   ]
  },
  {
   "cell_type": "code",
   "execution_count": 6,
   "id": "0a8f8962-4a1b-4c31-bbd5-1b74699f0d13",
   "metadata": {
    "tags": []
   },
   "outputs": [],
   "source": [
    "# restore inline plotting\n",
    "%matplotlib inline  "
   ]
  },
  {
   "cell_type": "code",
   "execution_count": 7,
   "id": "7514e678-19b8-4890-aa14-85970744b6d5",
   "metadata": {
    "tags": []
   },
   "outputs": [
    {
     "name": "stdout",
     "output_type": "stream",
     "text": [
      "Working on cluster 2\n",
      "Working on cluster 55\n",
      "Working on cluster 125\n",
      "Working on cluster 146\n",
      "Working on cluster 211\n",
      "Working on cluster 279\n",
      "Working on cluster 284\n"
     ]
    }
   ],
   "source": [
    "cluster_ids = data_sorted.iloc[:,3].unique()  # Check ID column\n",
    "cluster_ids = cluster_ids[cluster_ids>=0]  # Reject noise cluster of -1 Column ID\n",
    "\n",
    "#alpha_param = 500\n",
    "alpha_param = 0.0124\n",
    "\n",
    "\n",
    "cluster_stats = np.full( (len(cluster_ids),5), np.nan )\n",
    "cluster_shapes = []\n",
    "for kk, cid in enumerate(cluster_ids):\n",
    "    print(f'Working on cluster {cid}')\n",
    "    if cid>=0:\n",
    "        coords = data[data['Clusters - ID']==cid].iloc[:,0:2].to_numpy()\n",
    "        num_coords = len(coords)\n",
    "        cluster_stats[kk,0] = cid  # Identifier\n",
    "        cluster_stats[kk,1] = ash.get_alpha_area(coords, alpha_param)  # Area, um^2\n",
    "        cluster_stats[kk,2] = 2*np.sqrt(cluster_stats[kk,1]/np.pi)  # Equivalent diameter, um^2\n",
    "        cluster_stats[kk,3] = num_coords / cluster_stats[kk,1]  # Density, num/um^2\n",
    "        cluster_stats[kk,4] = num_coords   # number of locs in cluster\n",
    "        #Average the lateral loc accuracy column for each cluster ID?\n",
    "        cluster_shapes.append( ash.get_alpha_shape(coords, alpha_param) ) # Full shape object"
   ]
  },
  {
   "cell_type": "code",
   "execution_count": 8,
   "id": "409b15ea",
   "metadata": {
    "scrolled": false
   },
   "outputs": [
    {
     "name": "stdout",
     "output_type": "stream",
     "text": [
      "0.0004953892771927717\n",
      "0.00053655326334591\n",
      "0.0008944679192811337\n",
      "0.0010570511613214196\n",
      "0.0015687292661269127\n",
      "0.001605645141610123\n",
      "0.0019115560789220512\n",
      "0.012443642060180055\n"
     ]
    }
   ],
   "source": [
    "# Don't do this\n",
    "for stupid in cluster_shapes[0].find_optimal_alpha(1):\n",
    "    print( stupid )"
   ]
  },
  {
   "cell_type": "code",
   "execution_count": 9,
   "id": "9dec6022",
   "metadata": {},
   "outputs": [
    {
     "name": "stdout",
     "output_type": "stream",
     "text": [
      "500.0\n"
     ]
    }
   ],
   "source": [
    "cluster_shapes[1].set_alpha(500)\n",
    "print( cluster_shapes[1].get_alpha() )\n"
   ]
  },
  {
   "cell_type": "code",
   "execution_count": 10,
   "id": "eca8aa44",
   "metadata": {},
   "outputs": [],
   "source": [
    "%matplotlib qt  "
   ]
  },
  {
   "cell_type": "code",
   "execution_count": 11,
   "id": "df599cc0",
   "metadata": {
    "scrolled": false
   },
   "outputs": [
    {
     "name": "stdout",
     "output_type": "stream",
     "text": [
      "18.4026 11.7754 18.4138 11.7358 2\n",
      "18.4232 11.7291 18.4675 11.7169 2\n",
      "18.4675 11.7169 18.4728 11.7655 2\n",
      "18.4346 11.8232 18.4013 11.8154 2\n",
      "18.4728 11.7655 18.4607 11.8192 2\n",
      "18.4013 11.8154 18.4026 11.7754 2\n",
      "18.4138 11.7358 18.4232 11.7291 2\n",
      "18.4607 11.8192 18.4528 11.8325 2\n",
      "18.4528 11.8325 18.4346 11.8232 2\n",
      "17.5194 11.4245 17.496 11.4466 2\n",
      "17.3662 11.3367 17.3369 11.3248 2\n",
      "17.3491 11.2323 17.3839 11.2403 2\n",
      "17.4816 11.4268 17.453 11.401 2\n",
      "17.336 11.2658 17.344 11.2397 2\n",
      "17.3233 11.3012 17.336 11.2658 2\n",
      "17.4467 11.3024 17.4882 11.3365 2\n",
      "17.4009 11.3605 17.3662 11.3367 2\n",
      "17.4882 11.3365 17.5184 11.4078 2\n",
      "17.453 11.401 17.4086 11.3675 2\n",
      "17.3839 11.2403 17.4467 11.3024 2\n",
      "17.344 11.2397 17.3491 11.2323 2\n",
      "17.4086 11.3675 17.4009 11.3605 2\n",
      "17.5184 11.4078 17.5194 11.4245 2\n",
      "17.496 11.4466 17.4816 11.4268 2\n",
      "17.3369 11.3248 17.3233 11.3012 2\n",
      "18.2909 10.8823 18.3102 10.8898 2\n",
      "18.3102 10.8898 18.3469 10.9072 2\n",
      "18.3613 11.0152 18.3196 11.0233 2\n",
      "18.3469 10.9072 18.3641 10.9721 2\n",
      "18.2457 10.8771 18.2773 10.8823 2\n",
      "18.3196 11.0233 18.2713 10.9787 2\n",
      "18.2713 10.9787 18.2068 10.8854 2\n",
      "18.3637 11.013 18.3613 11.0152 2\n",
      "18.2773 10.8823 18.2909 10.8823 2\n",
      "18.3641 10.9721 18.3737 10.9907 2\n",
      "18.3737 10.9907 18.3637 11.013 2\n",
      "18.2068 10.8854 18.2457 10.8771 2\n",
      "17.4015 13.0636 17.4047 13.0927 2\n",
      "17.4047 13.0927 17.3878 13.1152 2\n",
      "17.3454 13.1481 17.3265 13.1601 2\n",
      "17.3111 13.01 17.343 13.0168 2\n",
      "17.3878 13.1152 17.3454 13.1481 2\n",
      "17.3668 13.0185 17.4015 13.0636 2\n",
      "17.2734 13.0989 17.2439 13.0482 2\n",
      "17.2388 13.0389 17.245 13.0138 2\n",
      "17.245 13.0138 17.3111 13.01 2\n",
      "17.3265 13.1601 17.2734 13.0989 2\n",
      "17.2439 13.0482 17.2388 13.0389 2\n",
      "17.343 13.0168 17.3668 13.0185 2\n",
      "17.0673 12.3858 17.0734 12.4108 2\n",
      "16.9579 12.4442 16.9667 12.3885 2\n",
      "17.046 12.4694 16.9579 12.4442 2\n",
      "17.0083 12.3201 17.0673 12.3858 2\n",
      "16.9667 12.3885 17.0083 12.3201 2\n",
      "17.0571 12.4783 17.046 12.4694 2\n",
      "17.0721 12.4466 17.0571 12.4783 2\n",
      "17.0734 12.4108 17.0721 12.4466 2\n",
      "18.9215 11.0753 18.9387 11.0703 2\n",
      "18.9664 11.0758 18.9845 11.0818 2\n",
      "18.9845 11.0818 18.9971 11.106 2\n",
      "18.8928 11.1207 18.895 11.0925 2\n",
      "18.9387 11.0703 18.9664 11.0758 2\n",
      "18.9947 11.2375 18.9578 11.2568 2\n",
      "18.9578 11.2568 18.9222 11.2797 2\n",
      "18.9971 11.106 19.036 11.1438 2\n",
      "18.9222 11.2797 18.9075 11.2293 2\n",
      "18.895 11.0925 18.9215 11.0753 2\n",
      "19.045 11.1557 19.0447 11.162 2\n",
      "19.036 11.1438 19.045 11.1557 2\n",
      "19.0447 11.162 19.0406 11.177 2\n",
      "19.0406 11.177 19.0307 11.1911 2\n",
      "19.0307 11.1911 19.0194 11.2125 2\n",
      "18.8919 11.1837 18.8825 11.1556 2\n",
      "19.0194 11.2125 18.9947 11.2375 2\n",
      "18.8825 11.1556 18.8928 11.1207 2\n",
      "18.9075 11.2293 18.8919 11.1837 2\n",
      "17.5691 11.8795 17.5914 11.8851 2\n",
      "17.6865 11.9112 17.6765 11.9421 2\n",
      "17.5324 11.8936 17.5691 11.8795 2\n",
      "17.4895 11.9223 17.5184 11.8958 2\n",
      "17.6194 11.9874 17.5529 12.0024 2\n",
      "17.6124 11.8969 17.6603 11.9118 2\n",
      "17.5274 11.9961 17.4802 11.928 2\n",
      "17.4802 11.928 17.4895 11.9223 2\n",
      "17.5184 11.8958 17.5324 11.8936 2\n",
      "17.5914 11.8851 17.6124 11.8969 2\n",
      "17.6693 11.9667 17.6463 11.9748 2\n",
      "17.6765 11.9421 17.6693 11.9667 2\n",
      "17.6603 11.9118 17.6865 11.9112 2\n",
      "17.5529 12.0024 17.5274 11.9961 2\n",
      "17.6463 11.9748 17.6194 11.9874 2\n"
     ]
    },
    {
     "data": {
      "text/plain": [
       "(-0.5, 255.5, 255.5, -0.5)"
      ]
     },
     "execution_count": 11,
     "metadata": {},
     "output_type": "execute_result"
    }
   ],
   "source": [
    "# Put segmented alpha_shpaes on top of map\n",
    "plt.figure()\n",
    "plt.imshow(Im[:,:,0], cmap = \"gray\")\n",
    "\n",
    "for cur_shape in cluster_shapes:\n",
    "    cur_shape.set_alpha(alpha_param)\n",
    "    cluster_color = np.random.rand(1,3)\n",
    "    for cur_edge in cur_shape.alpha_shape_edges():\n",
    "        cur_segment = cur_shape.segment(cur_edge)\n",
    "        print( cur_segment, cur_shape.classify(cur_edge) )\n",
    "        X_from = cur_segment.source().x()\n",
    "        X_to = cur_segment.target().x()\n",
    "        Y_from = cur_segment.source().y()\n",
    "        Y_to = cur_segment.target().y()\n",
    "        # TODO: Assemble into numpy array\n",
    "        X_px = um_to_px( np.array([X_from,X_to]) )\n",
    "        Y_px = um_to_px( np.array([Y_from,Y_to]) )\n",
    "        plt.plot(X_px,Y_px,color=cluster_color)\n",
    "        plt.scatter(pts_all[:,0],pts_all[:,1],5,color=cluster_color)\n",
    "        # TODO: Get points from alpha_shape for consistency\n",
    "#plt.axis('equal')\n",
    "plt.axis('image')\n"
   ]
  },
  {
   "cell_type": "code",
   "execution_count": 12,
   "id": "d9b14d88",
   "metadata": {},
   "outputs": [
    {
     "data": {
      "text/plain": [
       "(0.006122390233731345, 0.008000000000000156)"
      ]
     },
     "execution_count": 12,
     "metadata": {},
     "output_type": "execute_result"
    }
   ],
   "source": [
    "# Back of the envelope check that area is reasonable, given image\n",
    "cluster_stats[0,1], (11.82-11.72)*(18.48-18.40)"
   ]
  },
  {
   "cell_type": "code",
   "execution_count": 13,
   "id": "fbd62cb0-c6b8-4b68-b8c9-cbe78685a478",
   "metadata": {
    "tags": []
   },
   "outputs": [],
   "source": [
    "# TODO: Plot alpha shapes on top of points\n",
    "        #Can we add in average value from localization accuracy column for each cluster?"
   ]
  },
  {
   "cell_type": "code",
   "execution_count": 14,
   "id": "ff67ed55-9b81-418d-9029-65f565432ba1",
   "metadata": {},
   "outputs": [
    {
     "data": {
      "text/html": [
       "<div>\n",
       "<style scoped>\n",
       "    .dataframe tbody tr th:only-of-type {\n",
       "        vertical-align: middle;\n",
       "    }\n",
       "\n",
       "    .dataframe tbody tr th {\n",
       "        vertical-align: top;\n",
       "    }\n",
       "\n",
       "    .dataframe thead th {\n",
       "        text-align: right;\n",
       "    }\n",
       "</style>\n",
       "<table border=\"1\" class=\"dataframe\">\n",
       "  <thead>\n",
       "    <tr style=\"text-align: right;\">\n",
       "      <th></th>\n",
       "      <th>Cluster_ID</th>\n",
       "      <th>ClusterArea ( $\\mu m^2$ )</th>\n",
       "      <th>ClusterDiameter ( $\\mu m$ )</th>\n",
       "      <th>Density</th>\n",
       "      <th># of Locs</th>\n",
       "    </tr>\n",
       "  </thead>\n",
       "  <tbody>\n",
       "    <tr>\n",
       "      <th>0</th>\n",
       "      <td>2.0</td>\n",
       "      <td>0.006122</td>\n",
       "      <td>0.088291</td>\n",
       "      <td>6370.061122</td>\n",
       "      <td>39.0</td>\n",
       "    </tr>\n",
       "    <tr>\n",
       "      <th>1</th>\n",
       "      <td>55.0</td>\n",
       "      <td>0.017219</td>\n",
       "      <td>0.148069</td>\n",
       "      <td>9466.095003</td>\n",
       "      <td>163.0</td>\n",
       "    </tr>\n",
       "    <tr>\n",
       "      <th>2</th>\n",
       "      <td>125.0</td>\n",
       "      <td>0.013686</td>\n",
       "      <td>0.132005</td>\n",
       "      <td>7233.817994</td>\n",
       "      <td>99.0</td>\n",
       "    </tr>\n",
       "    <tr>\n",
       "      <th>3</th>\n",
       "      <td>146.0</td>\n",
       "      <td>0.016048</td>\n",
       "      <td>0.142944</td>\n",
       "      <td>10842.388905</td>\n",
       "      <td>174.0</td>\n",
       "    </tr>\n",
       "    <tr>\n",
       "      <th>4</th>\n",
       "      <td>211.0</td>\n",
       "      <td>0.011338</td>\n",
       "      <td>0.120150</td>\n",
       "      <td>4233.528488</td>\n",
       "      <td>48.0</td>\n",
       "    </tr>\n",
       "    <tr>\n",
       "      <th>5</th>\n",
       "      <td>279.0</td>\n",
       "      <td>0.021658</td>\n",
       "      <td>0.166061</td>\n",
       "      <td>13066.586924</td>\n",
       "      <td>283.0</td>\n",
       "    </tr>\n",
       "    <tr>\n",
       "      <th>6</th>\n",
       "      <td>284.0</td>\n",
       "      <td>0.016384</td>\n",
       "      <td>0.144432</td>\n",
       "      <td>9399.547333</td>\n",
       "      <td>154.0</td>\n",
       "    </tr>\n",
       "  </tbody>\n",
       "</table>\n",
       "</div>"
      ],
      "text/plain": [
       "   Cluster_ID  ClusterArea ( $\\mu m^2$ )  ClusterDiameter ( $\\mu m$ )  \\\n",
       "0         2.0                   0.006122                     0.088291   \n",
       "1        55.0                   0.017219                     0.148069   \n",
       "2       125.0                   0.013686                     0.132005   \n",
       "3       146.0                   0.016048                     0.142944   \n",
       "4       211.0                   0.011338                     0.120150   \n",
       "5       279.0                   0.021658                     0.166061   \n",
       "6       284.0                   0.016384                     0.144432   \n",
       "\n",
       "        Density  # of Locs  \n",
       "0   6370.061122       39.0  \n",
       "1   9466.095003      163.0  \n",
       "2   7233.817994       99.0  \n",
       "3  10842.388905      174.0  \n",
       "4   4233.528488       48.0  \n",
       "5  13066.586924      283.0  \n",
       "6   9399.547333      154.0  "
      ]
     },
     "execution_count": 14,
     "metadata": {},
     "output_type": "execute_result"
    }
   ],
   "source": [
    "cluster_stats_pd = pd.DataFrame(cluster_stats, columns = ['Cluster_ID','ClusterArea ( $\\mu m^2$ )','ClusterDiameter ( $\\mu m$ )','Density','# of Locs'])\n",
    "cluster_stats_pd"
   ]
  },
  {
   "cell_type": "code",
   "execution_count": null,
   "id": "e57124cc-f2ba-429e-8593-3d0413b24523",
   "metadata": {},
   "outputs": [],
   "source": []
  }
 ],
 "metadata": {
  "kernelspec": {
   "display_name": "Python 3 (ipykernel)",
   "language": "python",
   "name": "python3"
  },
  "language_info": {
   "codemirror_mode": {
    "name": "ipython",
    "version": 3
   },
   "file_extension": ".py",
   "mimetype": "text/x-python",
   "name": "python",
   "nbconvert_exporter": "python",
   "pygments_lexer": "ipython3",
   "version": "3.10.6"
  },
  "toc-autonumbering": true,
  "toc-showmarkdowntxt": false
 },
 "nbformat": 4,
 "nbformat_minor": 5
}
