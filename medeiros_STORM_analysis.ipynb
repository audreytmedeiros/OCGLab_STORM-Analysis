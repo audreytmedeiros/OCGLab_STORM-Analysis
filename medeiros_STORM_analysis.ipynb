{
 "cells": [
  {
   "cell_type": "markdown",
   "id": "a2220d36",
   "metadata": {},
   "source": [
    "# medeiros_STORM_analysis\n",
    "\n",
    "Notebook for STORM shape analysis in Medeiros, A. T., Gratz, S.J., Delgado, A., Ritt, J.T. and O’Connor-Giles, K. M. \"Intersecting levels of molecular and organizational diversity combine to generate functional synaptic heterogeneity within and between excitatory neuronal subtypes\".\n",
    "\n",
    "Loads an Excel sheet containing fluorophore localizations grouped into clusters, and fits 2D [alpha shapes](https://doc.cgal.org/latest/Alpha_shapes_2/index.html) to them. These shapes defined an active zone area, allowing calculation of AZ size and channel density."
   ]
  },
  {
   "cell_type": "code",
   "execution_count": null,
   "id": "22f29251",
   "metadata": {},
   "outputs": [],
   "source": [
    "# Example data\n",
    "\n",
    "dbscan_file = '20220526_L1_NMJ1_A2R67_DBSCAN_v2.xlsx'\n",
    "dbscan_sheet = 'B1_Ib_DBSCAN'\n",
    "max_proj_file = 'MAX_20220526_CacHalo_JF646_L1_A2R67_000.nd2 - C=0.png'"
   ]
  },
  {
   "cell_type": "markdown",
   "id": "e5487a21",
   "metadata": {},
   "source": [
    "## Initialize"
   ]
  },
  {
   "cell_type": "code",
   "execution_count": null,
   "id": "a6fc6f3f-d548-4615-93cc-36fede3ffa56",
   "metadata": {
    "tags": []
   },
   "outputs": [],
   "source": [
    "# Dependencies\n",
    "\n",
    "import pandas as pd\n",
    "import numpy as np\n",
    "from matplotlib import pyplot as plt\n",
    "\n",
    "# CGAL package for point->shape analysis\n",
    "from CGAL.CGAL_Kernel import Point_2\n",
    "from CGAL.CGAL_Alpha_shape_2 import Alpha_shape_2, GENERAL, REGULAR"
   ]
  },
  {
   "cell_type": "code",
   "execution_count": null,
   "id": "f2c5fa15",
   "metadata": {},
   "outputs": [],
   "source": [
    "from CGAL.CGAL_Kernel import area"
   ]
  },
  {
   "cell_type": "code",
   "execution_count": null,
   "id": "013cc51b",
   "metadata": {},
   "outputs": [],
   "source": [
    "# The following line will enable interactive plots within the notebook, and\n",
    "# requires ipympl to be installed. You can comment it out to use default\n",
    "# plotting, or try \"%matplotlib qt\" to pop out interactive plots in new\n",
    "# windows.\n",
    "\n",
    "%matplotlib widget"
   ]
  },
  {
   "cell_type": "code",
   "execution_count": null,
   "id": "8a9b147a-ee1b-4698-9920-ed4c69ce64b8",
   "metadata": {
    "tags": []
   },
   "outputs": [],
   "source": [
    "# Utility functions\n",
    "\n",
    "def um_to_px(coords, pxum=6.25):\n",
    "    '''\n",
    "    Convert coordinates from micrometers in the STORM file to \n",
    "    pixels in the associated confocal image.\n",
    "    \n",
    "    pxum is pixels per micron, found in the scope metadata.\n",
    "    '''\n",
    "    # Assumes Matplotlib convention for pixel locations\n",
    "    return coords*pxum - 0.5 \n",
    "\n",
    "def make_alpha_shape(coords, alpha):\n",
    "    '''\n",
    "    Return the CGAL object for alpha shape from the point cloud.\n",
    "    Note the object contains shape information for all choices of\n",
    "    alpha, but we set a specific value after creation, to be used\n",
    "    in all subsequent analyses.\n",
    "    \n",
    "    coords should be an N by 2 array of (x,y) locations in micrometers.\n",
    "    \n",
    "    alpha is a non-negative float that determines shape complexity; larger\n",
    "    means simpler shape.\n",
    "    If zero, returns the original set of points as a set of distinct shapes.\n",
    "    At a large enough alpha, the shape becomes the convex hull, and then no\n",
    "    further changes occur with larger alpha.\n",
    "    Note that the rest of the code in this notebook assumes only a single\n",
    "    shape is returned for each cluster, i.e. that alpha is not too small.\n",
    "    \n",
    "    In the CGAL implementation, the \"shape\" is actually an object representing\n",
    "    the entire family of shapes across alpha values (fixed by coords), but \n",
    "    a default value can be set.\n",
    "    \n",
    "    This function is just a convenience wrappper for CGAL.make_alpha_shape.\n",
    "    '''\n",
    "    \n",
    "    # Point_2 is CGAL object for representing a point; cannot use\n",
    "    # Numpy arrays directly.\n",
    "    # SWIG wrapper for CGAL maps python lists onto C++ array pointers\n",
    "    point_list = [Point_2(*cur_coord) for cur_coord in coords]\n",
    "    \n",
    "    cur_shape = Alpha_shape_2(point_list, alpha, GENERAL)\n",
    "    cur_shape.make_alpha_shape(point_list)\n",
    "    cur_shape.set_alpha(alpha) # Must be reset after fit to points\n",
    "\n",
    "    return cur_shape\n",
    "\n",
    "def get_az_area(alpha_shape):\n",
    "    '''\n",
    "    Find the active zone area, defined by a 2D alpha shape\n",
    "    fit to a point cloud. \n",
    "    \n",
    "    The input should be a CGAL Alpha_Shape_2 object, as returned\n",
    "    from make_alpha_shape. Note that the code assumes a specific value\n",
    "    of the alpha parameter has been set in the object; this ensures that\n",
    "    all analyses with the object use the same alpha parameter.\n",
    "    \n",
    "    Approach is to take the polygonal area of the alpha_shape boundary.\n",
    "    Does not require boundary to be convex, but it is assumed there is only a \n",
    "    single simple (non-intersecting) polygon given by the shape edges\n",
    "    iterator.\n",
    "    '''\n",
    "\n",
    "    # Unfortunately, CGAL does not provide oriented boundary segments,\n",
    "    # so we first have to link the vertices in order using the boundary\n",
    "    # segment source/target labels\n",
    "\n",
    "    # Aggregate all shape segments into array [x_from,y_from,x_to,y_to]\n",
    "    edge_points = []\n",
    "    for k in alpha_shape.alpha_shape_edges():\n",
    "        p1 = alpha_shape.segment(k).source()\n",
    "        p2 = alpha_shape.segment(k).target()\n",
    "        edge_points.append( [p1.x(),p1.y(),p2.x(),p2.y()] )\n",
    "    edge_points = np.array( edge_points )\n",
    "    num_points = edge_points.shape[0]\n",
    "\n",
    "    # Now find an ordering by linking \"from/to\" points across segments\n",
    "    # These appear to be copies of the same values, so exact equality\n",
    "    # tests work; it might be more robust to allow for floating point error.    \n",
    "    rows_to_search = np.arange(num_points).tolist()\n",
    "    shape_vertices = np.full( (num_points,2), np.nan )\n",
    "    next_point = edge_points[0,2:]\n",
    "    for point_idx in range(num_points):\n",
    "        next_test = np.all( edge_points[rows_to_search,:2] == next_point, axis=1 )\n",
    "        next_idx = rows_to_search[ next_test.nonzero()[0][0] ]\n",
    "\n",
    "        shape_vertices[point_idx] = edge_points[next_idx,:2]\n",
    "        next_point = edge_points[next_idx,2:]\n",
    "        rows_to_search.remove(next_idx)  # Already linked point, do not search again\n",
    "    \n",
    "    # Now use the \"shoelace\" formula to find area of oriented polygon\n",
    "    x = shape_vertices[:,0]\n",
    "    y = shape_vertices[:,1]\n",
    "    A = 0.5*np.abs( np.dot(x[:-1],y[1:]) + x[-1]*y[0]\n",
    "                     - x[0]*y[-1] - np.dot(x[1:],y[:-1]) )\n",
    "    \n",
    "    return A\n",
    "\n",
    "def plot_img_coords_alpha(Im, cluster_shapes, alpha_param=None):\n",
    "    '''\n",
    "    Plot segmented alpha_shapes and localizations on top of confocal image.\n",
    "    \n",
    "    Im is an RGB array.\n",
    "    \n",
    "    cluster_shapes is a list of CGAL alpha_shapes.\n",
    "    \n",
    "    alpha_param (non-negative float) is optional to change the alpha parameter;\n",
    "    best practice is to set in the Alpha_Shape_2 object during creation for\n",
    "    consistency across all analyses.\n",
    "    \n",
    "    Requires um_to_px utility function to align the two scope coordinates.\n",
    "    '''\n",
    "    plt.figure()\n",
    "    plt.imshow(Im[:,:,0], cmap = \"gray\")\n",
    "\n",
    "    for cur_shape in cluster_shapes:\n",
    "        if alpha_param is not None:\n",
    "            # Setting here may have side effects !\n",
    "            cur_shape.set_alpha(alpha_param)\n",
    "        cluster_color = np.random.rand(1,3)\n",
    "        \n",
    "        # Draw the edges of the current shape\n",
    "        for cur_edge in cur_shape.alpha_shape_edges():\n",
    "            cur_segment = cur_shape.segment(cur_edge)\n",
    "\n",
    "            X_from = cur_segment.source().x()\n",
    "            X_to = cur_segment.target().x()\n",
    "            Y_from = cur_segment.source().y()\n",
    "            Y_to = cur_segment.target().y()        \n",
    "            X_px = um_to_px( np.array([X_from,X_to]) )\n",
    "            Y_px = um_to_px( np.array([Y_from,Y_to]) )\n",
    "            \n",
    "            plt.plot(X_px,Y_px,color=cluster_color)\n",
    "        \n",
    "        # Draw the individual points of the current shape\n",
    "        coords = um_to_px( np.array( [(c.x(),c.y()) for c in cur_shape.points()] ))\n",
    "        plt.scatter(coords[:,0], coords[:,1], 5,color=cluster_color)\n",
    "\n",
    "    plt.axis('image')"
   ]
  },
  {
   "cell_type": "code",
   "execution_count": null,
   "id": "b138354a-8c5b-45a9-9229-74e156d4399a",
   "metadata": {
    "tags": []
   },
   "outputs": [],
   "source": [
    "# Primary analysis function\n",
    "\n",
    "def get_cluster_stats(dbscan_file, dbscan_sheet, alpha_param):\n",
    "    '''\n",
    "    Analyzes distribution of fluorophores in active zones using alpha shape geometry.\n",
    "    \n",
    "    dbscan_file, dbscan_sheet are strings giving the Excel file and sheet to load.\n",
    "    \n",
    "    alpha_param is a non-negative float used as complexity parameter (bigger is simpler).\n",
    "    '''\n",
    "    \n",
    "    # TODO: Remove hard coded columns\n",
    "    data = pd.read_excel(dbscan_file, sheet_name=dbscan_sheet, usecols=[1, 2, 5, 37])\n",
    "    \n",
    "    # Remove lateral localization accuracy points below 50nm (0.05 microns)\n",
    "    print(f'Number of poorly localized points: {np.sum( data[\"Lateral Localization Accuracy\"] > 0.05)}')\n",
    "    data = data.loc[data[\"Lateral Localization Accuracy\"] <= 0.05]           \n",
    "    \n",
    "    # Get list of cluster IDs, and reject noise cluster (ID==-1) if present\n",
    "    cluster_ids = data.iloc[:,3].unique()\n",
    "    cluster_ids = cluster_ids[cluster_ids>=0]\n",
    "\n",
    "    cluster_stats = np.full( (len(cluster_ids),5), np.nan )\n",
    "    cluster_shapes = []\n",
    "    for kk, cid in enumerate(cluster_ids):\n",
    "        print(f'Working on cluster {cid}')\n",
    "        coords = data[data['Clusters - ID']==cid].iloc[:,0:2].to_numpy()\n",
    "        num_coords = len(coords)\n",
    "        \n",
    "        cur_shape = make_alpha_shape(coords, alpha_param)\n",
    "        cluster_shapes.append( cur_shape )\n",
    "        \n",
    "        # Compute various stats\n",
    "        cluster_stats[kk,0] = cid  # Identifier\n",
    "        cluster_stats[kk,1] = get_az_area(cur_shape)  # Area, um^2\n",
    "        cluster_stats[kk,2] = 2*np.sqrt(cluster_stats[kk,1]/np.pi)  # Equivalent diameter, um^2\n",
    "        cluster_stats[kk,3] = num_coords / cluster_stats[kk,1]  # Density, num/um^2\n",
    "        cluster_stats[kk,4] = num_coords   # Number of locs in cluster\n",
    "     \n",
    "    cluster_stats_pd = pd.DataFrame(cluster_stats,\n",
    "                                    columns = ['Cluster_ID',\n",
    "                                               'ClusterArea ( $\\mu m^2$ )',\n",
    "                                               'ClusterDiameter ( $\\mu m$ )',\n",
    "                                               'Density',\n",
    "                                               '# of Locs'])\n",
    "    \n",
    "    return {\"cluster_stats\":cluster_stats_pd, \"cluster_shapes\":cluster_shapes}"
   ]
  },
  {
   "cell_type": "markdown",
   "id": "a2adb3fa",
   "metadata": {},
   "source": [
    "## Load and analyze data\n",
    "\n",
    "Expects an Excel workbook in the current directory, with a sheet containing STORM points.\n",
    "\n",
    "Uses CGAL package for alpha shapes to find piecewise linear outlines of each active zone, and compute geometric properties like diameter and density.\n",
    "\n",
    "As $\\alpha$ (in the code as `alpha_param`) goes to infinity, the alpha shape becomes a convex hull. As $\\alpha$ goes to zero, the active zone will be broken into distinct subclusters, eventually with each point its own cluster when $\\alpha=0$. We aim for an $\\alpha$ a little below the minimum that produces a convex hull. CGAL can find an optimal (minimal) $\\alpha$ for each point cloud to be a single shape, but to avoid overfitting we choose a single larger value to apply to all clusters across all imaging sessions."
   ]
  },
  {
   "cell_type": "code",
   "execution_count": null,
   "id": "295a4bbf-1cb5-40f4-86ff-69d4f7edbd76",
   "metadata": {
    "scrolled": false
   },
   "outputs": [],
   "source": [
    "alpha_param = 0.015  # Shape complexity\n",
    "\n",
    "cluster_data = get_cluster_stats(dbscan_file, dbscan_sheet, alpha_param)"
   ]
  },
  {
   "cell_type": "code",
   "execution_count": null,
   "id": "33e0122c",
   "metadata": {},
   "outputs": [],
   "source": [
    "cluster_data[\"cluster_stats\"].sort_values(by = ['Cluster_ID'], ascending = True )"
   ]
  },
  {
   "cell_type": "markdown",
   "id": "59578098",
   "metadata": {},
   "source": [
    "## Visualize\n",
    "\n",
    "Plot the confocal max-projection image, the individual STORM points, and the alpha shape outlines."
   ]
  },
  {
   "cell_type": "code",
   "execution_count": null,
   "id": "534f0871-a040-4573-baf3-92c4dc4db104",
   "metadata": {
    "scrolled": false
   },
   "outputs": [],
   "source": [
    "# Load max projection image from raw nd2 video wih Fiji/ImageJ to maintain alignment\n",
    "\n",
    "Im = plt.imread(max_proj_file)\n",
    "\n",
    "plot_img_coords_alpha(Im, cluster_data[\"cluster_shapes\"]) \n",
    "\n",
    "#plt.savefig('Fig_alpha_shapes.svg', format='svg', dpi=300)"
   ]
  },
  {
   "cell_type": "code",
   "execution_count": null,
   "id": "9e37857b",
   "metadata": {},
   "outputs": [],
   "source": []
  }
 ],
 "metadata": {
  "kernelspec": {
   "display_name": "Python 3 (ipykernel)",
   "language": "python",
   "name": "python3"
  },
  "language_info": {
   "codemirror_mode": {
    "name": "ipython",
    "version": 3
   },
   "file_extension": ".py",
   "mimetype": "text/x-python",
   "name": "python",
   "nbconvert_exporter": "python",
   "pygments_lexer": "ipython3",
   "version": "3.11.0"
  },
  "toc-autonumbering": true,
  "toc-showmarkdowntxt": false
 },
 "nbformat": 4,
 "nbformat_minor": 5
}
